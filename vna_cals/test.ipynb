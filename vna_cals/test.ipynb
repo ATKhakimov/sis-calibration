{
 "cells": [
  {
   "cell_type": "code",
   "execution_count": 36,
   "metadata": {},
   "outputs": [],
   "source": [
    "import pyvisa\n",
    "import easy_scpi as scpi\n",
    "from ping3 import ping\n",
    "import pandas as pd\n",
    "import numpy as np\n",
    "from qmix.exp import RawData, RawData0\n",
    "from matplotlib import pyplot as plt"
   ]
  },
  {
   "cell_type": "code",
   "execution_count": 1,
   "metadata": {},
   "outputs": [
    {
     "data": {
      "text/plain": [
       "'OK'"
      ]
     },
     "execution_count": 1,
     "metadata": {},
     "output_type": "execute_result"
    }
   ],
   "source": [
    "import socket\n",
    "HOST = \"169.254.190.83\"  # The server's hostname or IP address\n",
    "PORT = 9876  # The port used by the server\n",
    "cmd = bytes('BIAS:DEV2:VOLT 1e-3', 'utf-8')\n",
    "with socket.socket(socket.AF_INET) as s:\n",
    "    s.connect((HOST, PORT))\n",
    "    s.sendall(cmd)\n",
    "    data = s.recv(1024)\n",
    "\n",
    "data.decode().rstrip()"
   ]
  },
  {
   "cell_type": "code",
   "execution_count": 42,
   "metadata": {},
   "outputs": [
    {
     "data": {
      "image/png": "[encoded data removed]",
      "text/plain": [
       "<Figure size 720x432 with 1 Axes>"
      ]
     },
     "metadata": {
      "needs_background": "light"
     },
     "output_type": "display_data"
    }
   ],
   "source": [
    "path = 'E:\\Exp_Data\\SIS_reflection\\IF_reflection\\\\05_04_2022_test_block\\\\'\n",
    "d500 = pd.read_csv(path+'iv1.csv')\n",
    "plt.figure(figsize=(10,6))\n",
    "plt.plot(d500['V'], d500['I'])\n",
    "plt.xlim(-0.0001,0.0001)\n",
    "plt.ylim(-0.00002,0.00002)\n",
    "plt.grid()"
   ]
  },
  {
   "cell_type": "code",
   "execution_count": 33,
   "metadata": {},
   "outputs": [
    {
     "name": "stdout",
     "output_type": "stream",
     "text": [
      "\u001b[35m\n",
      "DC I-V data:\u001b[0m \n",
      "\tVgap:  \t\t  1.05\tmV\n",
      "\tfgap:  \t\t253.59\tGHz\n",
      "\n",
      "\tRn:    \t\t  9.89\tohms\n",
      "\tRsg:   \t\t  9.11\tohms\n",
      "\tQ:     \t\t  0.92\n",
      "\n",
      "\tJc:    \t\t  7.07\tkA/cm^2\n",
      "\tIleak: \t\t201.00\tuA\n",
      "\n",
      "\tOffset:\t\t  0.10\tmV\n",
      "\t       \t\t 15.14\tuV\n",
      "\n",
      "\tVint:  \t\t  0.02\tmV\n",
      "\n"
     ]
    }
   ],
   "source": [
    "d0 = RawData0(path+'iv1.csv', v_fmt='V', i_fmt='A')"
   ]
  },
  {
   "cell_type": "code",
   "execution_count": 35,
   "metadata": {},
   "outputs": [
    {
     "data": {
      "text/plain": [
       "{'kwargs': {'delimiter': ',',\n",
       "  'usecols': (0, 1),\n",
       "  'v_fmt': 'V',\n",
       "  'i_fmt': 'A',\n",
       "  'vmax': 0.006,\n",
       "  'npts': 6001,\n",
       "  'ioffset': None,\n",
       "  'voffset': None,\n",
       "  'voffset_range': 0.0003,\n",
       "  'voffset_sigma': 1e-05,\n",
       "  'rseries': None,\n",
       "  'iv_multiplier': 1.0,\n",
       "  'ifdata_vmax': 2.25,\n",
       "  'ifdata_npts': 3000,\n",
       "  'filter_data': True,\n",
       "  'vgap_guess': 0.0027,\n",
       "  'igap_guess': 0.0002,\n",
       "  'filter_theta': 0.785,\n",
       "  'filter_nwind': 21,\n",
       "  'filter_npoly': 3,\n",
       "  'ifdata_sigma': 5,\n",
       "  'analyze_iv': True,\n",
       "  'analyze_if': True,\n",
       "  'analyze': None,\n",
       "  'area': 1.5,\n",
       "  'freq': None,\n",
       "  'vgap_threshold': 0.000105,\n",
       "  'rn_vmin': 0.0035,\n",
       "  'rn_vmax': 0.0045,\n",
       "  'vrsg': 0.002,\n",
       "  'vleak': 0.002,\n",
       "  'vshot': None,\n",
       "  'cut_low': 0.25,\n",
       "  'cut_high': 0.2,\n",
       "  'remb_range': (0, 1),\n",
       "  'xemb_range': (-1, 1),\n",
       "  'alpha_max': 1.5,\n",
       "  'num_b': 20,\n",
       "  't_cold': 80.0,\n",
       "  't_hot': 293.0,\n",
       "  'vbest': None,\n",
       "  'v_smear': 0.02,\n",
       "  'vmax_plot': 4.0,\n",
       "  'comment': '',\n",
       "  'verbose': True},\n",
       " 'file_path': 'E:\\\\Exp_Data\\\\SIS_reflection\\\\IF_reflection\\\\05_04_2022_test_block\\\\iv1.csv',\n",
       " 'comment': '',\n",
       " 'voltage': array([-5.7210287 , -5.71912169, -5.71721468, ...,  5.71721468,\n",
       "         5.71912169,  5.7210287 ]),\n",
       " 'current': array([-3.79224805, -3.79116536, -3.79008267, ...,  4.61787599,\n",
       "         4.61787599,  4.61787599]),\n",
       " 'dc': DCIVData(vraw=array([-0.00601363, -0.00601182, -0.00601001, ...,  0.00485075,\n",
       "         0.00485256,  0.00485438]), iraw=array([-0.0004029 , -0.00040279, -0.00040269, ...,  0.00048928,\n",
       "         0.00048947,  0.00048966]), vnorm=array([-5.7210287 , -5.71912169, -5.71721468, ...,  5.71721468,\n",
       "         5.71912169,  5.7210287 ]), inorm=array([-3.79224805, -3.79116536, -3.79008267, ...,  4.61787599,\n",
       "         4.61787599,  4.61787599]), vgap=0.0010487624361771994, igap=0.00010603644813649879, fgap=253589628817.92383, rn=9.890584366114815, rsg=9.105432924002933, offset=(0.00010320876171139385, 1.5142972313660335e-05), vint=2.1366985172255764e-05, rseries=None),\n",
       " 'vgap': 0.0010487624361771994,\n",
       " 'igap': 0.00010603644813649879,\n",
       " 'fgap': 253589628817.92383,\n",
       " 'rn': 9.890584366114815,\n",
       " 'rsg': 9.105432924002933,\n",
       " 'q': 0.9206162737156548,\n",
       " 'rna': 1.4835876549172222e-11,\n",
       " 'jc': 70690965.42433253,\n",
       " 'offset': (0.00010320876171139385, 1.5142972313660335e-05),\n",
       " 'vint': 2.1366985172255764e-05,\n",
       " 'vleak': 0.002,\n",
       " 'ileak': 0.00020100114811190988,\n",
       " 'resp': <qmix.respfn.RespFnFromIVData at 0x158a5370>,\n",
       " 'resp_smear': <qmix.respfn.RespFnFromIVData at 0x40c3430>,\n",
       " 'dcif': None,\n",
       " 'if_data': None,\n",
       " 'if_noise': None,\n",
       " 'corr': None,\n",
       " 'shot_slope': None,\n",
       " 'if_fit': None}"
      ]
     },
     "execution_count": 35,
     "metadata": {},
     "output_type": "execute_result"
    }
   ],
   "source": [
    "d0.__dict__"
   ]
  },
  {
   "cell_type": "code",
   "execution_count": null,
   "metadata": {},
   "outputs": [],
   "source": []
  }
 ],
 "metadata": {
  "interpreter": {
   "hash": "37711db6fa68fa4b05d672a5ee137b463a28d4c67e344365daefc68f1ed4a61d"
  },
  "kernelspec": {
   "display_name": "Python 3.8.8 32-bit ('base': conda)",
   "name": "python3"
  },
  "language_info": {
   "codemirror_mode": {
    "name": "ipython",
    "version": 3
   },
   "file_extension": ".py",
   "mimetype": "text/x-python",
   "name": "python",
   "nbconvert_exporter": "python",
   "pygments_lexer": "ipython3",
   "version": "3.8.8"
  },
  "orig_nbformat": 4
 },
 "nbformat": 4,
 "nbformat_minor": 2
}
