{
 "cells": [
  {
   "cell_type": "code",
   "execution_count": 2,
   "id": "5646d471",
   "metadata": {},
   "outputs": [],
   "source": [
    "import easy_scpi as scpi\n",
    "import pyvisa"
   ]
  },
  {
   "cell_type": "code",
   "execution_count": 1,
   "id": "8696c22e",
   "metadata": {},
   "outputs": [
    {
     "ename": "NameError",
     "evalue": "name 'scpi' is not defined",
     "output_type": "error",
     "traceback": [
      "\u001b[0;31m---------------------------------------------------------------------------\u001b[0m",
      "\u001b[0;31mNameError\u001b[0m                                 Traceback (most recent call last)",
      "Input \u001b[0;32mIn [1]\u001b[0m, in \u001b[0;36m<cell line: 5>\u001b[0;34m()\u001b[0m\n\u001b[1;32m      2\u001b[0m IP \u001b[38;5;241m=\u001b[39m \u001b[38;5;124m'\u001b[39m\u001b[38;5;124m169.254.190.83\u001b[39m\u001b[38;5;124m'\u001b[39m\n\u001b[1;32m      3\u001b[0m port \u001b[38;5;241m=\u001b[39m \u001b[38;5;124mf\u001b[39m\u001b[38;5;124m'\u001b[39m\u001b[38;5;124mTCPIP\u001b[39m\u001b[38;5;132;01m{\u001b[39;00mIP\u001b[38;5;132;01m}\u001b[39;00m\u001b[38;5;124m'\u001b[39m\n\u001b[0;32m----> 5\u001b[0m instr \u001b[38;5;241m=\u001b[39m \u001b[43mscpi\u001b[49m\u001b[38;5;241m.\u001b[39mInstrument(\u001b[38;5;124mf\u001b[39m\u001b[38;5;124m\"\u001b[39m\u001b[38;5;124mTCPIP0::\u001b[39m\u001b[38;5;132;01m{\u001b[39;00mIP\u001b[38;5;132;01m}\u001b[39;00m\u001b[38;5;124m::INSTR\u001b[39m\u001b[38;5;124m\"\u001b[39m)\n\u001b[1;32m      7\u001b[0m instr\u001b[38;5;241m.\u001b[39mconnect()\n",
      "\u001b[0;31mNameError\u001b[0m: name 'scpi' is not defined"
     ]
    }
   ],
   "source": [
    "IP = '10.208.234.8'\n",
    "IP = '169.254.190.83'\n",
    "port = f'TCPIP{IP}'\n",
    "\n",
    "instr = scpi.Instrument(f\"TCPIP0::{IP}::INSTR\")\n",
    "\n",
    "instr.connect()"
   ]
  },
  {
   "cell_type": "code",
   "execution_count": 3,
   "id": "9269c76a",
   "metadata": {},
   "outputs": [
    {
     "ename": "VisaIOError",
     "evalue": "VI_ERROR_RSRC_NFOUND (-1073807343): Insufficient location information or the requested device or resource is not present in the system.",
     "output_type": "error",
     "traceback": [
      "\u001b[0;31m---------------------------------------------------------------------------\u001b[0m",
      "\u001b[0;31mRPCError\u001b[0m                                  Traceback (most recent call last)",
      "File \u001b[0;32m/Library/Frameworks/Python.framework/Versions/3.9/lib/python3.9/site-packages/pyvisa_py/tcpip.py:71\u001b[0m, in \u001b[0;36mTCPIPInstrSession.after_parsing\u001b[0;34m(self)\u001b[0m\n\u001b[1;32m     70\u001b[0m \u001b[38;5;28;01mtry\u001b[39;00m:\n\u001b[0;32m---> 71\u001b[0m     \u001b[38;5;28mself\u001b[39m\u001b[38;5;241m.\u001b[39minterface \u001b[38;5;241m=\u001b[39m \u001b[43mvxi11\u001b[49m\u001b[38;5;241;43m.\u001b[39;49m\u001b[43mCoreClient\u001b[49m\u001b[43m(\u001b[49m\n\u001b[1;32m     72\u001b[0m \u001b[43m        \u001b[49m\u001b[38;5;28;43mself\u001b[39;49m\u001b[38;5;241;43m.\u001b[39;49m\u001b[43mparsed\u001b[49m\u001b[38;5;241;43m.\u001b[39;49m\u001b[43mhost_address\u001b[49m\u001b[43m,\u001b[49m\u001b[43m \u001b[49m\u001b[38;5;28;43mself\u001b[39;49m\u001b[38;5;241;43m.\u001b[39;49m\u001b[43mopen_timeout\u001b[49m\n\u001b[1;32m     73\u001b[0m \u001b[43m    \u001b[49m\u001b[43m)\u001b[49m\n\u001b[1;32m     74\u001b[0m \u001b[38;5;28;01mexcept\u001b[39;00m rpc\u001b[38;5;241m.\u001b[39mRPCError:\n",
      "File \u001b[0;32m/Library/Frameworks/Python.framework/Versions/3.9/lib/python3.9/site-packages/pyvisa_py/protocols/vxi11.py:202\u001b[0m, in \u001b[0;36mCoreClient.__init__\u001b[0;34m(self, host, open_timeout)\u001b[0m\n\u001b[1;32m    201\u001b[0m \u001b[38;5;28mself\u001b[39m\u001b[38;5;241m.\u001b[39munpacker \u001b[38;5;241m=\u001b[39m Vxi11Unpacker(\u001b[38;5;124m\"\u001b[39m\u001b[38;5;124m\"\u001b[39m)\n\u001b[0;32m--> 202\u001b[0m \u001b[38;5;28;43msuper\u001b[39;49m\u001b[43m(\u001b[49m\u001b[43mCoreClient\u001b[49m\u001b[43m,\u001b[49m\u001b[43m \u001b[49m\u001b[38;5;28;43mself\u001b[39;49m\u001b[43m)\u001b[49m\u001b[38;5;241;43m.\u001b[39;49m\u001b[38;5;21;43m__init__\u001b[39;49m\u001b[43m(\u001b[49m\n\u001b[1;32m    203\u001b[0m \u001b[43m    \u001b[49m\u001b[43mhost\u001b[49m\u001b[43m,\u001b[49m\u001b[43m \u001b[49m\u001b[43mDEVICE_CORE_PROG\u001b[49m\u001b[43m,\u001b[49m\u001b[43m \u001b[49m\u001b[43mDEVICE_CORE_VERS\u001b[49m\u001b[43m,\u001b[49m\u001b[43m \u001b[49m\u001b[43mopen_timeout\u001b[49m\n\u001b[1;32m    204\u001b[0m \u001b[43m\u001b[49m\u001b[43m)\u001b[49m\n",
      "File \u001b[0;32m/Library/Frameworks/Python.framework/Versions/3.9/lib/python3.9/site-packages/pyvisa_py/protocols/rpc.py:747\u001b[0m, in \u001b[0;36mTCPClient.__init__\u001b[0;34m(self, host, prog, vers, open_timeout)\u001b[0m\n\u001b[1;32m    746\u001b[0m \u001b[38;5;28;01mdef\u001b[39;00m \u001b[38;5;21m__init__\u001b[39m(\u001b[38;5;28mself\u001b[39m, host, prog, vers, open_timeout\u001b[38;5;241m=\u001b[39m\u001b[38;5;241m5000\u001b[39m):\n\u001b[0;32m--> 747\u001b[0m     pmap \u001b[38;5;241m=\u001b[39m \u001b[43mTCPPortMapperClient\u001b[49m\u001b[43m(\u001b[49m\u001b[43mhost\u001b[49m\u001b[43m,\u001b[49m\u001b[43m \u001b[49m\u001b[43mopen_timeout\u001b[49m\u001b[43m)\u001b[49m\n\u001b[1;32m    748\u001b[0m     port \u001b[38;5;241m=\u001b[39m pmap\u001b[38;5;241m.\u001b[39mget_port((prog, vers, IPPROTO_TCP, \u001b[38;5;241m0\u001b[39m))\n",
      "File \u001b[0;32m/Library/Frameworks/Python.framework/Versions/3.9/lib/python3.9/site-packages/pyvisa_py/protocols/rpc.py:727\u001b[0m, in \u001b[0;36mTCPPortMapperClient.__init__\u001b[0;34m(self, host, open_timeout)\u001b[0m\n\u001b[1;32m    726\u001b[0m \u001b[38;5;28;01mdef\u001b[39;00m \u001b[38;5;21m__init__\u001b[39m(\u001b[38;5;28mself\u001b[39m, host, open_timeout\u001b[38;5;241m=\u001b[39m\u001b[38;5;241m5000\u001b[39m):\n\u001b[0;32m--> 727\u001b[0m     \u001b[43mRawTCPClient\u001b[49m\u001b[38;5;241;43m.\u001b[39;49m\u001b[38;5;21;43m__init__\u001b[39;49m\u001b[43m(\u001b[49m\u001b[38;5;28;43mself\u001b[39;49m\u001b[43m,\u001b[49m\u001b[43m \u001b[49m\u001b[43mhost\u001b[49m\u001b[43m,\u001b[49m\u001b[43m \u001b[49m\u001b[43mPMAP_PROG\u001b[49m\u001b[43m,\u001b[49m\u001b[43m \u001b[49m\u001b[43mPMAP_VERS\u001b[49m\u001b[43m,\u001b[49m\u001b[43m \u001b[49m\u001b[43mPMAP_PORT\u001b[49m\u001b[43m,\u001b[49m\u001b[43m \u001b[49m\u001b[43mopen_timeout\u001b[49m\u001b[43m)\u001b[49m\n\u001b[1;32m    728\u001b[0m     PartialPortMapperClient\u001b[38;5;241m.\u001b[39m\u001b[38;5;21m__init__\u001b[39m(\u001b[38;5;28mself\u001b[39m)\n",
      "File \u001b[0;32m/Library/Frameworks/Python.framework/Versions/3.9/lib/python3.9/site-packages/pyvisa_py/protocols/rpc.py:446\u001b[0m, in \u001b[0;36mRawTCPClient.__init__\u001b[0;34m(self, host, prog, vers, port, open_timeout)\u001b[0m\n\u001b[1;32m    445\u001b[0m Client\u001b[38;5;241m.\u001b[39m\u001b[38;5;21m__init__\u001b[39m(\u001b[38;5;28mself\u001b[39m, host, prog, vers, port)\n\u001b[0;32m--> 446\u001b[0m \u001b[38;5;28;43mself\u001b[39;49m\u001b[38;5;241;43m.\u001b[39;49m\u001b[43mconnect\u001b[49m\u001b[43m(\u001b[49m\u001b[43m(\u001b[49m\u001b[43mopen_timeout\u001b[49m\u001b[43m \u001b[49m\u001b[38;5;241;43m/\u001b[39;49m\u001b[43m \u001b[49m\u001b[38;5;241;43m1000.0\u001b[39;49m\u001b[43m)\u001b[49m\u001b[43m \u001b[49m\u001b[38;5;241;43m+\u001b[39;49m\u001b[43m \u001b[49m\u001b[38;5;241;43m1.0\u001b[39;49m\u001b[43m)\u001b[49m\n\u001b[1;32m    447\u001b[0m \u001b[38;5;66;03m# self.timeout defaults higher than the default 2 second VISA timeout,\u001b[39;00m\n\u001b[1;32m    448\u001b[0m \u001b[38;5;66;03m# ensuring that VISA timeouts take precedence.\u001b[39;00m\n",
      "File \u001b[0;32m/Library/Frameworks/Python.framework/Versions/3.9/lib/python3.9/site-packages/pyvisa_py/protocols/rpc.py:480\u001b[0m, in \u001b[0;36mRawTCPClient.connect\u001b[0;34m(self, timeout)\u001b[0m\n\u001b[1;32m    479\u001b[0m \u001b[38;5;28;01mif\u001b[39;00m \u001b[38;5;129;01mnot\u001b[39;00m _connect(\u001b[38;5;28mself\u001b[39m\u001b[38;5;241m.\u001b[39msock, \u001b[38;5;28mself\u001b[39m\u001b[38;5;241m.\u001b[39mhost, \u001b[38;5;28mself\u001b[39m\u001b[38;5;241m.\u001b[39mport, timeout):\n\u001b[0;32m--> 480\u001b[0m     \u001b[38;5;28;01mraise\u001b[39;00m RPCError(\u001b[38;5;124m\"\u001b[39m\u001b[38;5;124mcan\u001b[39m\u001b[38;5;124m'\u001b[39m\u001b[38;5;124mt connect to server\u001b[39m\u001b[38;5;124m\"\u001b[39m)\n",
      "\u001b[0;31mRPCError\u001b[0m: can't connect to server",
      "\nDuring handling of the above exception, another exception occurred:\n",
      "\u001b[0;31mVisaIOError\u001b[0m                               Traceback (most recent call last)",
      "Input \u001b[0;32mIn [3]\u001b[0m, in \u001b[0;36m<cell line: 2>\u001b[0;34m()\u001b[0m\n\u001b[1;32m      1\u001b[0m rm \u001b[38;5;241m=\u001b[39m pyvisa\u001b[38;5;241m.\u001b[39mResourceManager()\n\u001b[0;32m----> 2\u001b[0m instr \u001b[38;5;241m=\u001b[39m \u001b[43mrm\u001b[49m\u001b[38;5;241;43m.\u001b[39;49m\u001b[43mopen_resource\u001b[49m\u001b[43m(\u001b[49m\u001b[38;5;124;43mf\u001b[39;49m\u001b[38;5;124;43m'\u001b[39;49m\u001b[38;5;124;43mTCPIP0::\u001b[39;49m\u001b[38;5;132;43;01m{\u001b[39;49;00m\u001b[43mIP\u001b[49m\u001b[38;5;132;43;01m}\u001b[39;49;00m\u001b[38;5;124;43m::INSTR\u001b[39;49m\u001b[38;5;124;43m'\u001b[39;49m\u001b[43m)\u001b[49m\n\u001b[1;32m      3\u001b[0m instr\u001b[38;5;241m.\u001b[39mquery_ascii_values(\u001b[38;5;124m'\u001b[39m\u001b[38;5;124m'\u001b[39m)\n",
      "File \u001b[0;32m/Library/Frameworks/Python.framework/Versions/3.9/lib/python3.9/site-packages/pyvisa/highlevel.py:3304\u001b[0m, in \u001b[0;36mResourceManager.open_resource\u001b[0;34m(self, resource_name, access_mode, open_timeout, resource_pyclass, **kwargs)\u001b[0m\n\u001b[1;32m   3298\u001b[0m     \u001b[38;5;28;01mif\u001b[39;00m \u001b[38;5;129;01mnot\u001b[39;00m present:\n\u001b[1;32m   3299\u001b[0m         \u001b[38;5;28;01mraise\u001b[39;00m \u001b[38;5;167;01mValueError\u001b[39;00m(\n\u001b[1;32m   3300\u001b[0m             \u001b[38;5;124m\"\u001b[39m\u001b[38;5;132;01m%r\u001b[39;00m\u001b[38;5;124m is not a valid attribute for type \u001b[39m\u001b[38;5;132;01m%s\u001b[39;00m\u001b[38;5;124m\"\u001b[39m\n\u001b[1;32m   3301\u001b[0m             \u001b[38;5;241m%\u001b[39m (key, res\u001b[38;5;241m.\u001b[39m\u001b[38;5;18m__class__\u001b[39m\u001b[38;5;241m.\u001b[39m\u001b[38;5;18m__name__\u001b[39m)\n\u001b[1;32m   3302\u001b[0m         )\n\u001b[0;32m-> 3304\u001b[0m \u001b[43mres\u001b[49m\u001b[38;5;241;43m.\u001b[39;49m\u001b[43mopen\u001b[49m\u001b[43m(\u001b[49m\u001b[43maccess_mode\u001b[49m\u001b[43m,\u001b[49m\u001b[43m \u001b[49m\u001b[43mopen_timeout\u001b[49m\u001b[43m)\u001b[49m\n\u001b[1;32m   3306\u001b[0m \u001b[38;5;28;01mfor\u001b[39;00m key, value \u001b[38;5;129;01min\u001b[39;00m kwargs\u001b[38;5;241m.\u001b[39mitems():\n\u001b[1;32m   3307\u001b[0m     \u001b[38;5;28msetattr\u001b[39m(res, key, value)\n",
      "File \u001b[0;32m/Library/Frameworks/Python.framework/Versions/3.9/lib/python3.9/site-packages/pyvisa/resources/resource.py:297\u001b[0m, in \u001b[0;36mResource.open\u001b[0;34m(self, access_mode, open_timeout)\u001b[0m\n\u001b[1;32m    293\u001b[0m logger\u001b[38;5;241m.\u001b[39mdebug(\u001b[38;5;124m\"\u001b[39m\u001b[38;5;132;01m%s\u001b[39;00m\u001b[38;5;124m - opening ...\u001b[39m\u001b[38;5;124m\"\u001b[39m, \u001b[38;5;28mself\u001b[39m\u001b[38;5;241m.\u001b[39m_resource_name, extra\u001b[38;5;241m=\u001b[39m\u001b[38;5;28mself\u001b[39m\u001b[38;5;241m.\u001b[39m_logging_extra)\n\u001b[1;32m    294\u001b[0m \u001b[38;5;28;01mwith\u001b[39;00m \u001b[38;5;28mself\u001b[39m\u001b[38;5;241m.\u001b[39m_resource_manager\u001b[38;5;241m.\u001b[39mignore_warning(\n\u001b[1;32m    295\u001b[0m     constants\u001b[38;5;241m.\u001b[39mStatusCode\u001b[38;5;241m.\u001b[39msuccess_device_not_present\n\u001b[1;32m    296\u001b[0m ):\n\u001b[0;32m--> 297\u001b[0m     \u001b[38;5;28mself\u001b[39m\u001b[38;5;241m.\u001b[39msession, status \u001b[38;5;241m=\u001b[39m \u001b[38;5;28;43mself\u001b[39;49m\u001b[38;5;241;43m.\u001b[39;49m\u001b[43m_resource_manager\u001b[49m\u001b[38;5;241;43m.\u001b[39;49m\u001b[43mopen_bare_resource\u001b[49m\u001b[43m(\u001b[49m\n\u001b[1;32m    298\u001b[0m \u001b[43m        \u001b[49m\u001b[38;5;28;43mself\u001b[39;49m\u001b[38;5;241;43m.\u001b[39;49m\u001b[43m_resource_name\u001b[49m\u001b[43m,\u001b[49m\u001b[43m \u001b[49m\u001b[43maccess_mode\u001b[49m\u001b[43m,\u001b[49m\u001b[43m \u001b[49m\u001b[43mopen_timeout\u001b[49m\n\u001b[1;32m    299\u001b[0m \u001b[43m    \u001b[49m\u001b[43m)\u001b[49m\n\u001b[1;32m    301\u001b[0m     \u001b[38;5;28;01mif\u001b[39;00m status \u001b[38;5;241m==\u001b[39m constants\u001b[38;5;241m.\u001b[39mStatusCode\u001b[38;5;241m.\u001b[39msuccess_device_not_present:\n\u001b[1;32m    302\u001b[0m         \u001b[38;5;66;03m# The device was not ready when we opened the session.\u001b[39;00m\n\u001b[1;32m    303\u001b[0m         \u001b[38;5;66;03m# Now it gets five seconds more to become ready.\u001b[39;00m\n\u001b[1;32m    304\u001b[0m         \u001b[38;5;66;03m# Every 0.1 seconds we probe it with viClear.\u001b[39;00m\n\u001b[1;32m    305\u001b[0m         start_time \u001b[38;5;241m=\u001b[39m time\u001b[38;5;241m.\u001b[39mtime()\n",
      "File \u001b[0;32m/Library/Frameworks/Python.framework/Versions/3.9/lib/python3.9/site-packages/pyvisa/highlevel.py:3232\u001b[0m, in \u001b[0;36mResourceManager.open_bare_resource\u001b[0;34m(self, resource_name, access_mode, open_timeout)\u001b[0m\n\u001b[1;32m   3203\u001b[0m \u001b[38;5;28;01mdef\u001b[39;00m \u001b[38;5;21mopen_bare_resource\u001b[39m(\n\u001b[1;32m   3204\u001b[0m     \u001b[38;5;28mself\u001b[39m,\n\u001b[1;32m   3205\u001b[0m     resource_name: \u001b[38;5;28mstr\u001b[39m,\n\u001b[1;32m   3206\u001b[0m     access_mode: constants\u001b[38;5;241m.\u001b[39mAccessModes \u001b[38;5;241m=\u001b[39m constants\u001b[38;5;241m.\u001b[39mAccessModes\u001b[38;5;241m.\u001b[39mno_lock,\n\u001b[1;32m   3207\u001b[0m     open_timeout: \u001b[38;5;28mint\u001b[39m \u001b[38;5;241m=\u001b[39m constants\u001b[38;5;241m.\u001b[39mVI_TMO_IMMEDIATE,\n\u001b[1;32m   3208\u001b[0m ) \u001b[38;5;241m-\u001b[39m\u001b[38;5;241m>\u001b[39m Tuple[VISASession, StatusCode]:\n\u001b[1;32m   3209\u001b[0m     \u001b[38;5;124;03m\"\"\"Open the specified resource without wrapping into a class.\u001b[39;00m\n\u001b[1;32m   3210\u001b[0m \n\u001b[1;32m   3211\u001b[0m \u001b[38;5;124;03m    Parameters\u001b[39;00m\n\u001b[0;32m   (...)\u001b[0m\n\u001b[1;32m   3230\u001b[0m \n\u001b[1;32m   3231\u001b[0m \u001b[38;5;124;03m    \"\"\"\u001b[39;00m\n\u001b[0;32m-> 3232\u001b[0m     \u001b[38;5;28;01mreturn\u001b[39;00m \u001b[38;5;28;43mself\u001b[39;49m\u001b[38;5;241;43m.\u001b[39;49m\u001b[43mvisalib\u001b[49m\u001b[38;5;241;43m.\u001b[39;49m\u001b[43mopen\u001b[49m\u001b[43m(\u001b[49m\u001b[38;5;28;43mself\u001b[39;49m\u001b[38;5;241;43m.\u001b[39;49m\u001b[43msession\u001b[49m\u001b[43m,\u001b[49m\u001b[43m \u001b[49m\u001b[43mresource_name\u001b[49m\u001b[43m,\u001b[49m\u001b[43m \u001b[49m\u001b[43maccess_mode\u001b[49m\u001b[43m,\u001b[49m\u001b[43m \u001b[49m\u001b[43mopen_timeout\u001b[49m\u001b[43m)\u001b[49m\n",
      "File \u001b[0;32m/Library/Frameworks/Python.framework/Versions/3.9/lib/python3.9/site-packages/pyvisa_py/highlevel.py:167\u001b[0m, in \u001b[0;36mPyVisaLibrary.open\u001b[0;34m(self, session, resource_name, access_mode, open_timeout)\u001b[0m\n\u001b[1;32m    158\u001b[0m     \u001b[38;5;28;01mreturn\u001b[39;00m (\n\u001b[1;32m    159\u001b[0m         VISASession(\u001b[38;5;241m0\u001b[39m),\n\u001b[1;32m    160\u001b[0m         \u001b[38;5;28mself\u001b[39m\u001b[38;5;241m.\u001b[39mhandle_return_value(\u001b[38;5;28;01mNone\u001b[39;00m, StatusCode\u001b[38;5;241m.\u001b[39merror_invalid_resource_name),\n\u001b[1;32m    161\u001b[0m     )\n\u001b[1;32m    163\u001b[0m \u001b[38;5;28mcls\u001b[39m \u001b[38;5;241m=\u001b[39m sessions\u001b[38;5;241m.\u001b[39mSession\u001b[38;5;241m.\u001b[39mget_session_class(\n\u001b[1;32m    164\u001b[0m     parsed\u001b[38;5;241m.\u001b[39minterface_type_const, parsed\u001b[38;5;241m.\u001b[39mresource_class\n\u001b[1;32m    165\u001b[0m )\n\u001b[0;32m--> 167\u001b[0m sess \u001b[38;5;241m=\u001b[39m \u001b[38;5;28;43mcls\u001b[39;49m\u001b[43m(\u001b[49m\u001b[43msession\u001b[49m\u001b[43m,\u001b[49m\u001b[43m \u001b[49m\u001b[43mresource_name\u001b[49m\u001b[43m,\u001b[49m\u001b[43m \u001b[49m\u001b[43mparsed\u001b[49m\u001b[43m,\u001b[49m\u001b[43m \u001b[49m\u001b[43mopen_timeout\u001b[49m\u001b[43m)\u001b[49m\n\u001b[1;32m    169\u001b[0m \u001b[38;5;28;01mreturn\u001b[39;00m \u001b[38;5;28mself\u001b[39m\u001b[38;5;241m.\u001b[39m_register(sess), StatusCode\u001b[38;5;241m.\u001b[39msuccess\n",
      "File \u001b[0;32m/Library/Frameworks/Python.framework/Versions/3.9/lib/python3.9/site-packages/pyvisa_py/sessions.py:323\u001b[0m, in \u001b[0;36mSession.__init__\u001b[0;34m(self, resource_manager_session, resource_name, parsed, open_timeout)\u001b[0m\n\u001b[1;32m    320\u001b[0m default_timeout \u001b[38;5;241m=\u001b[39m attributes\u001b[38;5;241m.\u001b[39mAttributesByID[attr]\u001b[38;5;241m.\u001b[39mdefault\n\u001b[1;32m    321\u001b[0m \u001b[38;5;28mself\u001b[39m\u001b[38;5;241m.\u001b[39mset_attribute(attr, default_timeout)\n\u001b[0;32m--> 323\u001b[0m \u001b[38;5;28;43mself\u001b[39;49m\u001b[38;5;241;43m.\u001b[39;49m\u001b[43mafter_parsing\u001b[49m\u001b[43m(\u001b[49m\u001b[43m)\u001b[49m\n",
      "File \u001b[0;32m/Library/Frameworks/Python.framework/Versions/3.9/lib/python3.9/site-packages/pyvisa_py/tcpip.py:75\u001b[0m, in \u001b[0;36mTCPIPInstrSession.after_parsing\u001b[0;34m(self)\u001b[0m\n\u001b[1;32m     71\u001b[0m     \u001b[38;5;28mself\u001b[39m\u001b[38;5;241m.\u001b[39minterface \u001b[38;5;241m=\u001b[39m vxi11\u001b[38;5;241m.\u001b[39mCoreClient(\n\u001b[1;32m     72\u001b[0m         \u001b[38;5;28mself\u001b[39m\u001b[38;5;241m.\u001b[39mparsed\u001b[38;5;241m.\u001b[39mhost_address, \u001b[38;5;28mself\u001b[39m\u001b[38;5;241m.\u001b[39mopen_timeout\n\u001b[1;32m     73\u001b[0m     )\n\u001b[1;32m     74\u001b[0m \u001b[38;5;28;01mexcept\u001b[39;00m rpc\u001b[38;5;241m.\u001b[39mRPCError:\n\u001b[0;32m---> 75\u001b[0m     \u001b[38;5;28;01mraise\u001b[39;00m errors\u001b[38;5;241m.\u001b[39mVisaIOError(constants\u001b[38;5;241m.\u001b[39mVI_ERROR_RSRC_NFOUND)\n\u001b[1;32m     77\u001b[0m \u001b[38;5;28mself\u001b[39m\u001b[38;5;241m.\u001b[39mlock_timeout \u001b[38;5;241m=\u001b[39m \u001b[38;5;241m10000\u001b[39m\n\u001b[1;32m     78\u001b[0m \u001b[38;5;28mself\u001b[39m\u001b[38;5;241m.\u001b[39mclient_id \u001b[38;5;241m=\u001b[39m random\u001b[38;5;241m.\u001b[39mgetrandbits(\u001b[38;5;241m31\u001b[39m)\n",
      "\u001b[0;31mVisaIOError\u001b[0m: VI_ERROR_RSRC_NFOUND (-1073807343): Insufficient location information or the requested device or resource is not present in the system."
     ]
    }
   ],
   "source": [
    "rm = pyvisa.ResourceManager()\n",
    "instr = rm.open_resource(f'TCPIP0::{IP}::INSTR')\n",
    "instr.query_ascii_values('')"
   ]
  },
  {
   "cell_type": "code",
   "execution_count": null,
   "id": "d8a32337",
   "metadata": {},
   "outputs": [],
   "source": []
  }
 ],
 "metadata": {
  "kernelspec": {
   "display_name": "Python 3 (ipykernel)",
   "language": "python",
   "name": "python3"
  },
  "language_info": {
   "codemirror_mode": {
    "name": "ipython",
    "version": 3
   },
   "file_extension": ".py",
   "mimetype": "text/x-python",
   "name": "python",
   "nbconvert_exporter": "python",
   "pygments_lexer": "ipython3",
   "version": "3.9.6"
  }
 },
 "nbformat": 4,
 "nbformat_minor": 5
}
